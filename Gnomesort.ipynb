{
 "metadata": {
  "name": "",
  "signature": "sha256:3334126d6a7e3155c0918569da15dbf9fa4d0165d8890222868e26d7bec807a9"
 },
 "nbformat": 3,
 "nbformat_minor": 0,
 "worksheets": [
  {
   "cells": [
    {
     "cell_type": "heading",
     "level": 1,
     "metadata": {},
     "source": [
      "Gnomesort"
     ]
    },
    {
     "cell_type": "markdown",
     "metadata": {},
     "source": [
      "The most basic so0rtinng algorithm for a sequence of gnomes."
     ]
    },
    {
     "cell_type": "code",
     "collapsed": false,
     "input": [
      "def gnomesort(seq):\n",
      "    i = 0\n",
      "    while i < len(seq):\n",
      "        if i == 0 or seq[i-1] <= seq[i]:\n",
      "            i += 1\n",
      "        else:\n",
      "            seq[i], seq[i-1] = seq[i-1],seq[i]\n",
      "            i -= 1"
     ],
     "language": "python",
     "metadata": {},
     "outputs": [],
     "prompt_number": 1
    },
    {
     "cell_type": "code",
     "collapsed": false,
     "input": [
      "import numpy as np\n",
      "seq = np.random.randint(0,100,15)\n",
      "print seq"
     ],
     "language": "python",
     "metadata": {},
     "outputs": [
      {
       "output_type": "stream",
       "stream": "stdout",
       "text": [
        "[79 96 30 54 23 27 84 43  6 71 69 83 73 44 27]\n"
       ]
      }
     ],
     "prompt_number": 2
    },
    {
     "cell_type": "markdown",
     "metadata": {},
     "source": [
      "So lets sort these gnomes."
     ]
    },
    {
     "cell_type": "code",
     "collapsed": false,
     "input": [
      "gnomesort(seq)\n",
      "print seq"
     ],
     "language": "python",
     "metadata": {},
     "outputs": [
      {
       "output_type": "stream",
       "stream": "stdout",
       "text": [
        "[ 6 23 27 27 30 43 44 54 69 71 73 79 83 84 96]\n"
       ]
      }
     ],
     "prompt_number": 3
    },
    {
     "cell_type": "markdown",
     "metadata": {},
     "source": [
      "Perfect that works! But there are different ways of doing this too..."
     ]
    },
    {
     "cell_type": "code",
     "collapsed": false,
     "input": [],
     "language": "python",
     "metadata": {},
     "outputs": []
    }
   ],
   "metadata": {}
  }
 ]
}