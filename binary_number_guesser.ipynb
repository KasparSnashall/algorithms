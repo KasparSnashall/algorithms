{
 "metadata": {
  "name": "",
  "signature": "sha256:5f99694a8fc854eb4cba9a74dea542a0562f1c9c2c99c04f5cdb136f9f1f9295"
 },
 "nbformat": 3,
 "nbformat_minor": 0,
 "worksheets": [
  {
   "cells": [
    {
     "cell_type": "heading",
     "level": 1,
     "metadata": {},
     "source": [
      "Random large Number guesser"
     ]
    },
    {
     "cell_type": "markdown",
     "metadata": {},
     "source": [
      "This is a bianary random number guesser that is the most efficent one you can have that I know of."
     ]
    },
    {
     "cell_type": "code",
     "collapsed": false,
     "input": [
      "from random import randrange\n",
      "from math import log"
     ],
     "language": "python",
     "metadata": {},
     "outputs": [],
     "prompt_number": 1
    },
    {
     "cell_type": "code",
     "collapsed": false,
     "input": [
      "n = 10**90"
     ],
     "language": "python",
     "metadata": {},
     "outputs": [],
     "prompt_number": 2
    },
    {
     "cell_type": "code",
     "collapsed": false,
     "input": [
      "p = randrange(10**90)"
     ],
     "language": "python",
     "metadata": {},
     "outputs": [],
     "prompt_number": 3
    },
    {
     "cell_type": "code",
     "collapsed": false,
     "input": [
      "i = 0\n",
      "heigh = n\n",
      "low = 0\n",
      "guess = n/2\n",
      "max_steps = log(n,2) #log base 2\n",
      "while guess != p:\n",
      "    if p < guess:\n",
      "        heigh = guess\n",
      "        guess = (low+heigh)/2\n",
      "    if p > guess:\n",
      "        low = guess\n",
      "        guess = (low+heigh)/2\n",
      "    if i > max_steps:\n",
      "        break\n",
      "    i += 1\n",
      "print guess-p, i"
     ],
     "language": "python",
     "metadata": {},
     "outputs": [
      {
       "output_type": "stream",
       "stream": "stdout",
       "text": [
        "0 221\n"
       ]
      }
     ],
     "prompt_number": 4
    },
    {
     "cell_type": "markdown",
     "metadata": {},
     "source": [
      "You can prove that the max number of steps for a number n is log2(n) for this number thats 300"
     ]
    },
    {
     "cell_type": "code",
     "collapsed": false,
     "input": [],
     "language": "python",
     "metadata": {},
     "outputs": []
    }
   ],
   "metadata": {}
  }
 ]
}